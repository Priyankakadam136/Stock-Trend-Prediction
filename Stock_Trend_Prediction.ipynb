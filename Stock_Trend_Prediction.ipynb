{
  "nbformat": 4,
  "nbformat_minor": 0,
  "metadata": {
    "colab": {
      "name": "Stock Trend Prediction.ipynb",
      "provenance": [],
      "collapsed_sections": [],
      "mount_file_id": "1r6tm4A2sAU8jNEZcnZ0uaRQSSXoktBTI",
      "authorship_tag": "ABX9TyMsfO3xi5yM0lQo7Y7sf53i",
      "include_colab_link": true
    },
    "kernelspec": {
      "name": "python3",
      "display_name": "Python 3"
    },
    "language_info": {
      "name": "python"
    }
  },
  "cells": [
    {
      "cell_type": "markdown",
      "metadata": {
        "id": "view-in-github",
        "colab_type": "text"
      },
      "source": [
        "<a href=\"https://colab.research.google.com/github/Priyankakadam136/Stock-Trend-Prediction/blob/main/Stock_Trend_Prediction.ipynb\" target=\"_parent\"><img src=\"https://colab.research.google.com/assets/colab-badge.svg\" alt=\"Open In Colab\"/></a>"
      ]
    },
    {
      "cell_type": "code",
      "metadata": {
        "id": "qe0tekXTpsgL"
      },
      "source": [
        "import numpy as np \n",
        "import pandas as pd\n",
        "import matplotlib.pyplot as plt\n",
        "import pandas_datareader as data\n"
      ],
      "execution_count": null,
      "outputs": []
    },
    {
      "cell_type": "code",
      "metadata": {
        "id": "TL6z_kRz2MYL"
      },
      "source": [
        "pip install yfinance"
      ],
      "execution_count": null,
      "outputs": []
    },
    {
      "cell_type": "code",
      "metadata": {
        "id": "iq3P7OCF4pw9"
      },
      "source": [
        "from pandas_datareader import data as pdr\n",
        "import yfinance as yf\n",
        "\n",
        "yf.pdr_override()"
      ],
      "execution_count": null,
      "outputs": []
    },
    {
      "cell_type": "code",
      "metadata": {
        "id": "-ZrzFxS42cCw",
        "colab": {
          "base_uri": "https://localhost:8080/",
          "height": 255
        },
        "outputId": "e9fc11b1-e682-4a92-df42-af5c5d435bd3"
      },
      "source": [
        "start = '2010-01-01'\n",
        "end ='2020-12-31'\n",
        "\n",
        "df = pdr.get_data_yahoo('TSLA', start, end)\n",
        "df.head()"
      ],
      "execution_count": null,
      "outputs": [
        {
          "output_type": "stream",
          "name": "stdout",
          "text": [
            "\r[*********************100%***********************]  1 of 1 completed\n"
          ]
        },
        {
          "output_type": "execute_result",
          "data": {
            "text/html": [
              "<div>\n",
              "<style scoped>\n",
              "    .dataframe tbody tr th:only-of-type {\n",
              "        vertical-align: middle;\n",
              "    }\n",
              "\n",
              "    .dataframe tbody tr th {\n",
              "        vertical-align: top;\n",
              "    }\n",
              "\n",
              "    .dataframe thead th {\n",
              "        text-align: right;\n",
              "    }\n",
              "</style>\n",
              "<table border=\"1\" class=\"dataframe\">\n",
              "  <thead>\n",
              "    <tr style=\"text-align: right;\">\n",
              "      <th></th>\n",
              "      <th>Open</th>\n",
              "      <th>High</th>\n",
              "      <th>Low</th>\n",
              "      <th>Close</th>\n",
              "      <th>Adj Close</th>\n",
              "      <th>Volume</th>\n",
              "    </tr>\n",
              "    <tr>\n",
              "      <th>Date</th>\n",
              "      <th></th>\n",
              "      <th></th>\n",
              "      <th></th>\n",
              "      <th></th>\n",
              "      <th></th>\n",
              "      <th></th>\n",
              "    </tr>\n",
              "  </thead>\n",
              "  <tbody>\n",
              "    <tr>\n",
              "      <th>2010-01-04</th>\n",
              "      <td>7.622500</td>\n",
              "      <td>7.660714</td>\n",
              "      <td>7.585000</td>\n",
              "      <td>7.643214</td>\n",
              "      <td>6.553025</td>\n",
              "      <td>493729600</td>\n",
              "    </tr>\n",
              "    <tr>\n",
              "      <th>2010-01-05</th>\n",
              "      <td>7.664286</td>\n",
              "      <td>7.699643</td>\n",
              "      <td>7.616071</td>\n",
              "      <td>7.656429</td>\n",
              "      <td>6.564354</td>\n",
              "      <td>601904800</td>\n",
              "    </tr>\n",
              "    <tr>\n",
              "      <th>2010-01-06</th>\n",
              "      <td>7.656429</td>\n",
              "      <td>7.686786</td>\n",
              "      <td>7.526786</td>\n",
              "      <td>7.534643</td>\n",
              "      <td>6.459942</td>\n",
              "      <td>552160000</td>\n",
              "    </tr>\n",
              "    <tr>\n",
              "      <th>2010-01-07</th>\n",
              "      <td>7.562500</td>\n",
              "      <td>7.571429</td>\n",
              "      <td>7.466071</td>\n",
              "      <td>7.520714</td>\n",
              "      <td>6.447997</td>\n",
              "      <td>477131200</td>\n",
              "    </tr>\n",
              "    <tr>\n",
              "      <th>2010-01-08</th>\n",
              "      <td>7.510714</td>\n",
              "      <td>7.571429</td>\n",
              "      <td>7.466429</td>\n",
              "      <td>7.570714</td>\n",
              "      <td>6.490866</td>\n",
              "      <td>447610800</td>\n",
              "    </tr>\n",
              "  </tbody>\n",
              "</table>\n",
              "</div>"
            ],
            "text/plain": [
              "                Open      High       Low     Close  Adj Close     Volume\n",
              "Date                                                                    \n",
              "2010-01-04  7.622500  7.660714  7.585000  7.643214   6.553025  493729600\n",
              "2010-01-05  7.664286  7.699643  7.616071  7.656429   6.564354  601904800\n",
              "2010-01-06  7.656429  7.686786  7.526786  7.534643   6.459942  552160000\n",
              "2010-01-07  7.562500  7.571429  7.466071  7.520714   6.447997  477131200\n",
              "2010-01-08  7.510714  7.571429  7.466429  7.570714   6.490866  447610800"
            ]
          },
          "metadata": {},
          "execution_count": 8
        }
      ]
    },
    {
      "cell_type": "code",
      "metadata": {
        "colab": {
          "base_uri": "https://localhost:8080/",
          "height": 238
        },
        "id": "Bdgq8VljCmW6",
        "outputId": "fad3eef5-7d3e-4feb-f0a3-4174a25c597f"
      },
      "source": [
        "df.tail()"
      ],
      "execution_count": null,
      "outputs": [
        {
          "output_type": "execute_result",
          "data": {
            "text/html": [
              "<div>\n",
              "<style scoped>\n",
              "    .dataframe tbody tr th:only-of-type {\n",
              "        vertical-align: middle;\n",
              "    }\n",
              "\n",
              "    .dataframe tbody tr th {\n",
              "        vertical-align: top;\n",
              "    }\n",
              "\n",
              "    .dataframe thead th {\n",
              "        text-align: right;\n",
              "    }\n",
              "</style>\n",
              "<table border=\"1\" class=\"dataframe\">\n",
              "  <thead>\n",
              "    <tr style=\"text-align: right;\">\n",
              "      <th></th>\n",
              "      <th>Open</th>\n",
              "      <th>High</th>\n",
              "      <th>Low</th>\n",
              "      <th>Close</th>\n",
              "      <th>Adj Close</th>\n",
              "      <th>Volume</th>\n",
              "    </tr>\n",
              "    <tr>\n",
              "      <th>Date</th>\n",
              "      <th></th>\n",
              "      <th></th>\n",
              "      <th></th>\n",
              "      <th></th>\n",
              "      <th></th>\n",
              "      <th></th>\n",
              "    </tr>\n",
              "  </thead>\n",
              "  <tbody>\n",
              "    <tr>\n",
              "      <th>2020-12-23</th>\n",
              "      <td>132.160004</td>\n",
              "      <td>132.429993</td>\n",
              "      <td>130.779999</td>\n",
              "      <td>130.960007</td>\n",
              "      <td>130.157608</td>\n",
              "      <td>88223700</td>\n",
              "    </tr>\n",
              "    <tr>\n",
              "      <th>2020-12-24</th>\n",
              "      <td>131.320007</td>\n",
              "      <td>133.460007</td>\n",
              "      <td>131.100006</td>\n",
              "      <td>131.970001</td>\n",
              "      <td>131.161407</td>\n",
              "      <td>54930100</td>\n",
              "    </tr>\n",
              "    <tr>\n",
              "      <th>2020-12-28</th>\n",
              "      <td>133.990005</td>\n",
              "      <td>137.339996</td>\n",
              "      <td>133.509995</td>\n",
              "      <td>136.690002</td>\n",
              "      <td>135.852509</td>\n",
              "      <td>124486200</td>\n",
              "    </tr>\n",
              "    <tr>\n",
              "      <th>2020-12-29</th>\n",
              "      <td>138.050003</td>\n",
              "      <td>138.789993</td>\n",
              "      <td>134.339996</td>\n",
              "      <td>134.869995</td>\n",
              "      <td>134.043640</td>\n",
              "      <td>121047300</td>\n",
              "    </tr>\n",
              "    <tr>\n",
              "      <th>2020-12-30</th>\n",
              "      <td>135.580002</td>\n",
              "      <td>135.990005</td>\n",
              "      <td>133.399994</td>\n",
              "      <td>133.720001</td>\n",
              "      <td>132.900696</td>\n",
              "      <td>96452100</td>\n",
              "    </tr>\n",
              "  </tbody>\n",
              "</table>\n",
              "</div>"
            ],
            "text/plain": [
              "                  Open        High  ...   Adj Close     Volume\n",
              "Date                                ...                       \n",
              "2020-12-23  132.160004  132.429993  ...  130.157608   88223700\n",
              "2020-12-24  131.320007  133.460007  ...  131.161407   54930100\n",
              "2020-12-28  133.990005  137.339996  ...  135.852509  124486200\n",
              "2020-12-29  138.050003  138.789993  ...  134.043640  121047300\n",
              "2020-12-30  135.580002  135.990005  ...  132.900696   96452100\n",
              "\n",
              "[5 rows x 6 columns]"
            ]
          },
          "metadata": {},
          "execution_count": 9
        }
      ]
    },
    {
      "cell_type": "code",
      "metadata": {
        "colab": {
          "base_uri": "https://localhost:8080/",
          "height": 206
        },
        "id": "s8QmlHxaC07w",
        "outputId": "37472e55-4103-4337-8c80-0302216dbad2"
      },
      "source": [
        "df = df.reset_index()\n",
        "df.head()"
      ],
      "execution_count": null,
      "outputs": [
        {
          "output_type": "execute_result",
          "data": {
            "text/html": [
              "<div>\n",
              "<style scoped>\n",
              "    .dataframe tbody tr th:only-of-type {\n",
              "        vertical-align: middle;\n",
              "    }\n",
              "\n",
              "    .dataframe tbody tr th {\n",
              "        vertical-align: top;\n",
              "    }\n",
              "\n",
              "    .dataframe thead th {\n",
              "        text-align: right;\n",
              "    }\n",
              "</style>\n",
              "<table border=\"1\" class=\"dataframe\">\n",
              "  <thead>\n",
              "    <tr style=\"text-align: right;\">\n",
              "      <th></th>\n",
              "      <th>Date</th>\n",
              "      <th>Open</th>\n",
              "      <th>High</th>\n",
              "      <th>Low</th>\n",
              "      <th>Close</th>\n",
              "      <th>Adj Close</th>\n",
              "      <th>Volume</th>\n",
              "    </tr>\n",
              "  </thead>\n",
              "  <tbody>\n",
              "    <tr>\n",
              "      <th>0</th>\n",
              "      <td>2010-01-04</td>\n",
              "      <td>7.622500</td>\n",
              "      <td>7.660714</td>\n",
              "      <td>7.585000</td>\n",
              "      <td>7.643214</td>\n",
              "      <td>6.553025</td>\n",
              "      <td>493729600</td>\n",
              "    </tr>\n",
              "    <tr>\n",
              "      <th>1</th>\n",
              "      <td>2010-01-05</td>\n",
              "      <td>7.664286</td>\n",
              "      <td>7.699643</td>\n",
              "      <td>7.616071</td>\n",
              "      <td>7.656429</td>\n",
              "      <td>6.564354</td>\n",
              "      <td>601904800</td>\n",
              "    </tr>\n",
              "    <tr>\n",
              "      <th>2</th>\n",
              "      <td>2010-01-06</td>\n",
              "      <td>7.656429</td>\n",
              "      <td>7.686786</td>\n",
              "      <td>7.526786</td>\n",
              "      <td>7.534643</td>\n",
              "      <td>6.459942</td>\n",
              "      <td>552160000</td>\n",
              "    </tr>\n",
              "    <tr>\n",
              "      <th>3</th>\n",
              "      <td>2010-01-07</td>\n",
              "      <td>7.562500</td>\n",
              "      <td>7.571429</td>\n",
              "      <td>7.466071</td>\n",
              "      <td>7.520714</td>\n",
              "      <td>6.447997</td>\n",
              "      <td>477131200</td>\n",
              "    </tr>\n",
              "    <tr>\n",
              "      <th>4</th>\n",
              "      <td>2010-01-08</td>\n",
              "      <td>7.510714</td>\n",
              "      <td>7.571429</td>\n",
              "      <td>7.466429</td>\n",
              "      <td>7.570714</td>\n",
              "      <td>6.490866</td>\n",
              "      <td>447610800</td>\n",
              "    </tr>\n",
              "  </tbody>\n",
              "</table>\n",
              "</div>"
            ],
            "text/plain": [
              "        Date      Open      High       Low     Close  Adj Close     Volume\n",
              "0 2010-01-04  7.622500  7.660714  7.585000  7.643214   6.553025  493729600\n",
              "1 2010-01-05  7.664286  7.699643  7.616071  7.656429   6.564354  601904800\n",
              "2 2010-01-06  7.656429  7.686786  7.526786  7.534643   6.459942  552160000\n",
              "3 2010-01-07  7.562500  7.571429  7.466071  7.520714   6.447997  477131200\n",
              "4 2010-01-08  7.510714  7.571429  7.466429  7.570714   6.490866  447610800"
            ]
          },
          "metadata": {},
          "execution_count": 10
        }
      ]
    },
    {
      "cell_type": "code",
      "metadata": {
        "colab": {
          "base_uri": "https://localhost:8080/",
          "height": 206
        },
        "id": "_V1YTxXiDCz3",
        "outputId": "b4111423-aa92-4210-85f5-74a5938c8964"
      },
      "source": [
        "df = df.drop(['Date','Adj Close'], axis = 1)\n",
        "df.head()"
      ],
      "execution_count": null,
      "outputs": [
        {
          "output_type": "execute_result",
          "data": {
            "text/html": [
              "<div>\n",
              "<style scoped>\n",
              "    .dataframe tbody tr th:only-of-type {\n",
              "        vertical-align: middle;\n",
              "    }\n",
              "\n",
              "    .dataframe tbody tr th {\n",
              "        vertical-align: top;\n",
              "    }\n",
              "\n",
              "    .dataframe thead th {\n",
              "        text-align: right;\n",
              "    }\n",
              "</style>\n",
              "<table border=\"1\" class=\"dataframe\">\n",
              "  <thead>\n",
              "    <tr style=\"text-align: right;\">\n",
              "      <th></th>\n",
              "      <th>Open</th>\n",
              "      <th>High</th>\n",
              "      <th>Low</th>\n",
              "      <th>Close</th>\n",
              "      <th>Volume</th>\n",
              "    </tr>\n",
              "  </thead>\n",
              "  <tbody>\n",
              "    <tr>\n",
              "      <th>0</th>\n",
              "      <td>7.622500</td>\n",
              "      <td>7.660714</td>\n",
              "      <td>7.585000</td>\n",
              "      <td>7.643214</td>\n",
              "      <td>493729600</td>\n",
              "    </tr>\n",
              "    <tr>\n",
              "      <th>1</th>\n",
              "      <td>7.664286</td>\n",
              "      <td>7.699643</td>\n",
              "      <td>7.616071</td>\n",
              "      <td>7.656429</td>\n",
              "      <td>601904800</td>\n",
              "    </tr>\n",
              "    <tr>\n",
              "      <th>2</th>\n",
              "      <td>7.656429</td>\n",
              "      <td>7.686786</td>\n",
              "      <td>7.526786</td>\n",
              "      <td>7.534643</td>\n",
              "      <td>552160000</td>\n",
              "    </tr>\n",
              "    <tr>\n",
              "      <th>3</th>\n",
              "      <td>7.562500</td>\n",
              "      <td>7.571429</td>\n",
              "      <td>7.466071</td>\n",
              "      <td>7.520714</td>\n",
              "      <td>477131200</td>\n",
              "    </tr>\n",
              "    <tr>\n",
              "      <th>4</th>\n",
              "      <td>7.510714</td>\n",
              "      <td>7.571429</td>\n",
              "      <td>7.466429</td>\n",
              "      <td>7.570714</td>\n",
              "      <td>447610800</td>\n",
              "    </tr>\n",
              "  </tbody>\n",
              "</table>\n",
              "</div>"
            ],
            "text/plain": [
              "       Open      High       Low     Close     Volume\n",
              "0  7.622500  7.660714  7.585000  7.643214  493729600\n",
              "1  7.664286  7.699643  7.616071  7.656429  601904800\n",
              "2  7.656429  7.686786  7.526786  7.534643  552160000\n",
              "3  7.562500  7.571429  7.466071  7.520714  477131200\n",
              "4  7.510714  7.571429  7.466429  7.570714  447610800"
            ]
          },
          "metadata": {},
          "execution_count": 11
        }
      ]
    },
    {
      "cell_type": "code",
      "metadata": {
        "colab": {
          "base_uri": "https://localhost:8080/",
          "height": 282
        },
        "id": "FAH7yI5JDiOJ",
        "outputId": "fdcf1802-6818-4f58-ede9-da1ae693ea59"
      },
      "source": [
        "plt.plot(df.Close)"
      ],
      "execution_count": null,
      "outputs": [
        {
          "output_type": "execute_result",
          "data": {
            "text/plain": [
              "[<matplotlib.lines.Line2D at 0x7f3fda744c10>]"
            ]
          },
          "metadata": {},
          "execution_count": 12
        },
        {
          "output_type": "display_data",
          "data": {
            "image/png": "[encoded data removed]",
            "text/plain": [
              "<Figure size 432x288 with 1 Axes>"
            ]
          },
          "metadata": {
            "needs_background": "light"
          }
        }
      ]
    },
    {
      "cell_type": "code",
      "metadata": {
        "colab": {
          "base_uri": "https://localhost:8080/",
          "height": 423
        },
        "id": "ihynQwXwDx0e",
        "outputId": "160a341f-1120-4d49-d788-3dd91296b866"
      },
      "source": [
        "df"
      ],
      "execution_count": null,
      "outputs": [
        {
          "output_type": "execute_result",
          "data": {
            "text/html": [
              "<div>\n",
              "<style scoped>\n",
              "    .dataframe tbody tr th:only-of-type {\n",
              "        vertical-align: middle;\n",
              "    }\n",
              "\n",
              "    .dataframe tbody tr th {\n",
              "        vertical-align: top;\n",
              "    }\n",
              "\n",
              "    .dataframe thead th {\n",
              "        text-align: right;\n",
              "    }\n",
              "</style>\n",
              "<table border=\"1\" class=\"dataframe\">\n",
              "  <thead>\n",
              "    <tr style=\"text-align: right;\">\n",
              "      <th></th>\n",
              "      <th>Open</th>\n",
              "      <th>High</th>\n",
              "      <th>Low</th>\n",
              "      <th>Close</th>\n",
              "      <th>Volume</th>\n",
              "    </tr>\n",
              "  </thead>\n",
              "  <tbody>\n",
              "    <tr>\n",
              "      <th>0</th>\n",
              "      <td>7.622500</td>\n",
              "      <td>7.660714</td>\n",
              "      <td>7.585000</td>\n",
              "      <td>7.643214</td>\n",
              "      <td>493729600</td>\n",
              "    </tr>\n",
              "    <tr>\n",
              "      <th>1</th>\n",
              "      <td>7.664286</td>\n",
              "      <td>7.699643</td>\n",
              "      <td>7.616071</td>\n",
              "      <td>7.656429</td>\n",
              "      <td>601904800</td>\n",
              "    </tr>\n",
              "    <tr>\n",
              "      <th>2</th>\n",
              "      <td>7.656429</td>\n",
              "      <td>7.686786</td>\n",
              "      <td>7.526786</td>\n",
              "      <td>7.534643</td>\n",
              "      <td>552160000</td>\n",
              "    </tr>\n",
              "    <tr>\n",
              "      <th>3</th>\n",
              "      <td>7.562500</td>\n",
              "      <td>7.571429</td>\n",
              "      <td>7.466071</td>\n",
              "      <td>7.520714</td>\n",
              "      <td>477131200</td>\n",
              "    </tr>\n",
              "    <tr>\n",
              "      <th>4</th>\n",
              "      <td>7.510714</td>\n",
              "      <td>7.571429</td>\n",
              "      <td>7.466429</td>\n",
              "      <td>7.570714</td>\n",
              "      <td>447610800</td>\n",
              "    </tr>\n",
              "    <tr>\n",
              "      <th>...</th>\n",
              "      <td>...</td>\n",
              "      <td>...</td>\n",
              "      <td>...</td>\n",
              "      <td>...</td>\n",
              "      <td>...</td>\n",
              "    </tr>\n",
              "    <tr>\n",
              "      <th>2763</th>\n",
              "      <td>132.160004</td>\n",
              "      <td>132.429993</td>\n",
              "      <td>130.779999</td>\n",
              "      <td>130.960007</td>\n",
              "      <td>88223700</td>\n",
              "    </tr>\n",
              "    <tr>\n",
              "      <th>2764</th>\n",
              "      <td>131.320007</td>\n",
              "      <td>133.460007</td>\n",
              "      <td>131.100006</td>\n",
              "      <td>131.970001</td>\n",
              "      <td>54930100</td>\n",
              "    </tr>\n",
              "    <tr>\n",
              "      <th>2765</th>\n",
              "      <td>133.990005</td>\n",
              "      <td>137.339996</td>\n",
              "      <td>133.509995</td>\n",
              "      <td>136.690002</td>\n",
              "      <td>124486200</td>\n",
              "    </tr>\n",
              "    <tr>\n",
              "      <th>2766</th>\n",
              "      <td>138.050003</td>\n",
              "      <td>138.789993</td>\n",
              "      <td>134.339996</td>\n",
              "      <td>134.869995</td>\n",
              "      <td>121047300</td>\n",
              "    </tr>\n",
              "    <tr>\n",
              "      <th>2767</th>\n",
              "      <td>135.580002</td>\n",
              "      <td>135.990005</td>\n",
              "      <td>133.399994</td>\n",
              "      <td>133.720001</td>\n",
              "      <td>96452100</td>\n",
              "    </tr>\n",
              "  </tbody>\n",
              "</table>\n",
              "<p>2768 rows × 5 columns</p>\n",
              "</div>"
            ],
            "text/plain": [
              "            Open        High         Low       Close     Volume\n",
              "0       7.622500    7.660714    7.585000    7.643214  493729600\n",
              "1       7.664286    7.699643    7.616071    7.656429  601904800\n",
              "2       7.656429    7.686786    7.526786    7.534643  552160000\n",
              "3       7.562500    7.571429    7.466071    7.520714  477131200\n",
              "4       7.510714    7.571429    7.466429    7.570714  447610800\n",
              "...          ...         ...         ...         ...        ...\n",
              "2763  132.160004  132.429993  130.779999  130.960007   88223700\n",
              "2764  131.320007  133.460007  131.100006  131.970001   54930100\n",
              "2765  133.990005  137.339996  133.509995  136.690002  124486200\n",
              "2766  138.050003  138.789993  134.339996  134.869995  121047300\n",
              "2767  135.580002  135.990005  133.399994  133.720001   96452100\n",
              "\n",
              "[2768 rows x 5 columns]"
            ]
          },
          "metadata": {},
          "execution_count": 13
        }
      ]
    },
    {
      "cell_type": "code",
      "metadata": {
        "colab": {
          "base_uri": "https://localhost:8080/"
        },
        "id": "w0PexyKKEQZg",
        "outputId": "e36fad1b-2301-4868-a35a-8f4af5043603"
      },
      "source": [
        "ma100 = df.Close.rolling(100).mean()\n",
        "ma100"
      ],
      "execution_count": null,
      "outputs": [
        {
          "output_type": "execute_result",
          "data": {
            "text/plain": [
              "0              NaN\n",
              "1              NaN\n",
              "2              NaN\n",
              "3              NaN\n",
              "4              NaN\n",
              "           ...    \n",
              "2763    118.000475\n",
              "2764    118.223525\n",
              "2765    118.489800\n",
              "2766    118.699475\n",
              "2767    118.925550\n",
              "Name: Close, Length: 2768, dtype: float64"
            ]
          },
          "metadata": {},
          "execution_count": 14
        }
      ]
    },
    {
      "cell_type": "code",
      "metadata": {
        "colab": {
          "base_uri": "https://localhost:8080/",
          "height": 391
        },
        "id": "578uWrsZEkSW",
        "outputId": "753aa34a-44aa-4763-ced7-ec56b6fb5133"
      },
      "source": [
        "plt.figure(figsize = (12,6))\n",
        "plt.plot(df.Close)\n",
        "plt.plot(ma100,'r')\n"
      ],
      "execution_count": null,
      "outputs": [
        {
          "output_type": "execute_result",
          "data": {
            "text/plain": [
              "[<matplotlib.lines.Line2D at 0x7f3fd8f36550>]"
            ]
          },
          "metadata": {},
          "execution_count": 15
        },
        {
          "output_type": "display_data",
          "data": {
            "image/png": "[encoded data removed]",
            "text/plain": [
              "<Figure size 864x432 with 1 Axes>"
            ]
          },
          "metadata": {
            "needs_background": "light"
          }
        }
      ]
    },
    {
      "cell_type": "code",
      "metadata": {
        "colab": {
          "base_uri": "https://localhost:8080/"
        },
        "id": "iJwBCLjMFB2o",
        "outputId": "dc60bb1f-af8f-48dd-9067-a01d39889063"
      },
      "source": [
        "ma200 = df.Close.rolling(200).mean()\n",
        "ma200"
      ],
      "execution_count": null,
      "outputs": [
        {
          "output_type": "execute_result",
          "data": {
            "text/plain": [
              "0              NaN\n",
              "1              NaN\n",
              "2              NaN\n",
              "3              NaN\n",
              "4              NaN\n",
              "           ...    \n",
              "2763     98.809175\n",
              "2764     99.158737\n",
              "2765     99.494725\n",
              "2766     99.866312\n",
              "2767    100.218837\n",
              "Name: Close, Length: 2768, dtype: float64"
            ]
          },
          "metadata": {},
          "execution_count": 16
        }
      ]
    },
    {
      "cell_type": "code",
      "metadata": {
        "colab": {
          "base_uri": "https://localhost:8080/",
          "height": 391
        },
        "id": "X7e0DGJLFX_Q",
        "outputId": "66439d9e-8995-4800-fa65-0c929e55f89a"
      },
      "source": [
        "plt.figure(figsize = (12,6))\n",
        "plt.plot(df.Close)\n",
        "plt.plot(ma100,'r')\n",
        "plt.plot(ma200,'g')"
      ],
      "execution_count": null,
      "outputs": [
        {
          "output_type": "execute_result",
          "data": {
            "text/plain": [
              "[<matplotlib.lines.Line2D at 0x7f3fd8eadd10>]"
            ]
          },
          "metadata": {},
          "execution_count": 17
        },
        {
          "output_type": "display_data",
          "data": {
            "image/png": "[encoded data removed]",
            "text/plain": [
              "<Figure size 864x432 with 1 Axes>"
            ]
          },
          "metadata": {
            "needs_background": "light"
          }
        }
      ]
    },
    {
      "cell_type": "code",
      "metadata": {
        "colab": {
          "base_uri": "https://localhost:8080/"
        },
        "id": "jxl8_5mnFlqx",
        "outputId": "8193828c-7423-44bb-a246-d80f340e0ee7"
      },
      "source": [
        "df.shape"
      ],
      "execution_count": null,
      "outputs": [
        {
          "output_type": "execute_result",
          "data": {
            "text/plain": [
              "(2768, 5)"
            ]
          },
          "metadata": {},
          "execution_count": 18
        }
      ]
    },
    {
      "cell_type": "markdown",
      "metadata": {
        "id": "A4pKZTlNFvwR"
      },
      "source": [
        " #Splitting Data into Traning and Testing"
      ]
    },
    {
      "cell_type": "code",
      "metadata": {
        "colab": {
          "base_uri": "https://localhost:8080/"
        },
        "id": "CFUE2NvvF8qd",
        "outputId": "def02d56-f2a6-40e9-cd4b-3d2d137159f2"
      },
      "source": [
        "data_training = pd.DataFrame(df['Close'][0:int(len(df)*0.70)])\n",
        "data_testing = pd.DataFrame(df['Close'][int(len(df)*0.70): int(len(df))])\n",
        "\n",
        "print(data_training.shape)\n",
        "print(data_testing.shape)\n"
      ],
      "execution_count": null,
      "outputs": [
        {
          "output_type": "stream",
          "name": "stdout",
          "text": [
            "(1937, 1)\n",
            "(831, 1)\n"
          ]
        }
      ]
    },
    {
      "cell_type": "code",
      "metadata": {
        "colab": {
          "base_uri": "https://localhost:8080/",
          "height": 206
        },
        "id": "BcPtKg7WG_Pm",
        "outputId": "dd0c8674-8c3c-4303-bb40-d222bdad8ab4"
      },
      "source": [
        "data_training.head()"
      ],
      "execution_count": null,
      "outputs": [
        {
          "output_type": "execute_result",
          "data": {
            "text/html": [
              "<div>\n",
              "<style scoped>\n",
              "    .dataframe tbody tr th:only-of-type {\n",
              "        vertical-align: middle;\n",
              "    }\n",
              "\n",
              "    .dataframe tbody tr th {\n",
              "        vertical-align: top;\n",
              "    }\n",
              "\n",
              "    .dataframe thead th {\n",
              "        text-align: right;\n",
              "    }\n",
              "</style>\n",
              "<table border=\"1\" class=\"dataframe\">\n",
              "  <thead>\n",
              "    <tr style=\"text-align: right;\">\n",
              "      <th></th>\n",
              "      <th>Close</th>\n",
              "    </tr>\n",
              "  </thead>\n",
              "  <tbody>\n",
              "    <tr>\n",
              "      <th>0</th>\n",
              "      <td>7.643214</td>\n",
              "    </tr>\n",
              "    <tr>\n",
              "      <th>1</th>\n",
              "      <td>7.656429</td>\n",
              "    </tr>\n",
              "    <tr>\n",
              "      <th>2</th>\n",
              "      <td>7.534643</td>\n",
              "    </tr>\n",
              "    <tr>\n",
              "      <th>3</th>\n",
              "      <td>7.520714</td>\n",
              "    </tr>\n",
              "    <tr>\n",
              "      <th>4</th>\n",
              "      <td>7.570714</td>\n",
              "    </tr>\n",
              "  </tbody>\n",
              "</table>\n",
              "</div>"
            ],
            "text/plain": [
              "      Close\n",
              "0  7.643214\n",
              "1  7.656429\n",
              "2  7.534643\n",
              "3  7.520714\n",
              "4  7.570714"
            ]
          },
          "metadata": {},
          "execution_count": 20
        }
      ]
    },
    {
      "cell_type": "code",
      "metadata": {
        "colab": {
          "base_uri": "https://localhost:8080/",
          "height": 206
        },
        "id": "UY-t1w_iHHxv",
        "outputId": "f662f703-518d-4a17-cbdb-42fd2706298c"
      },
      "source": [
        "data_testing.head()"
      ],
      "execution_count": null,
      "outputs": [
        {
          "output_type": "execute_result",
          "data": {
            "text/html": [
              "<div>\n",
              "<style scoped>\n",
              "    .dataframe tbody tr th:only-of-type {\n",
              "        vertical-align: middle;\n",
              "    }\n",
              "\n",
              "    .dataframe tbody tr th {\n",
              "        vertical-align: top;\n",
              "    }\n",
              "\n",
              "    .dataframe thead th {\n",
              "        text-align: right;\n",
              "    }\n",
              "</style>\n",
              "<table border=\"1\" class=\"dataframe\">\n",
              "  <thead>\n",
              "    <tr style=\"text-align: right;\">\n",
              "      <th></th>\n",
              "      <th>Close</th>\n",
              "    </tr>\n",
              "  </thead>\n",
              "  <tbody>\n",
              "    <tr>\n",
              "      <th>1937</th>\n",
              "      <td>39.912498</td>\n",
              "    </tr>\n",
              "    <tr>\n",
              "      <th>1938</th>\n",
              "      <td>39.570000</td>\n",
              "    </tr>\n",
              "    <tr>\n",
              "      <th>1939</th>\n",
              "      <td>39.970001</td>\n",
              "    </tr>\n",
              "    <tr>\n",
              "      <th>1940</th>\n",
              "      <td>39.667500</td>\n",
              "    </tr>\n",
              "    <tr>\n",
              "      <th>1941</th>\n",
              "      <td>39.682499</td>\n",
              "    </tr>\n",
              "  </tbody>\n",
              "</table>\n",
              "</div>"
            ],
            "text/plain": [
              "          Close\n",
              "1937  39.912498\n",
              "1938  39.570000\n",
              "1939  39.970001\n",
              "1940  39.667500\n",
              "1941  39.682499"
            ]
          },
          "metadata": {},
          "execution_count": 21
        }
      ]
    },
    {
      "cell_type": "markdown",
      "metadata": {
        "id": "aLsQj-hC_AUN"
      },
      "source": [
        "LSTM Model\n"
      ]
    },
    {
      "cell_type": "code",
      "metadata": {
        "id": "ef8lvMxeIqZ6"
      },
      "source": [
        "from sklearn.preprocessing import MinMaxScaler\n",
        "scaler = MinMaxScaler(feature_range=(0,1))"
      ],
      "execution_count": null,
      "outputs": []
    },
    {
      "cell_type": "code",
      "metadata": {
        "colab": {
          "base_uri": "https://localhost:8080/"
        },
        "id": "MRAJ2O3BI9OB",
        "outputId": "9561206b-ffce-44aa-e30f-ecd8d8f2a174"
      },
      "source": [
        "data_training_array = scaler.fit_transform(data_training)\n",
        "data_training_array"
      ],
      "execution_count": null,
      "outputs": [
        {
          "output_type": "execute_result",
          "data": {
            "text/plain": [
              "array([[0.02296349],\n",
              "       [0.0233504 ],\n",
              "       [0.01978458],\n",
              "       ...,\n",
              "       [0.96032627],\n",
              "       [0.98133429],\n",
              "       [0.97664957]])"
            ]
          },
          "metadata": {},
          "execution_count": 23
        }
      ]
    },
    {
      "cell_type": "code",
      "metadata": {
        "colab": {
          "base_uri": "https://localhost:8080/"
        },
        "id": "rifooXcYJq7F",
        "outputId": "7a33f906-081c-45a2-bcb4-4fff8a6625f9"
      },
      "source": [
        "data_training_array.shape"
      ],
      "execution_count": null,
      "outputs": [
        {
          "output_type": "execute_result",
          "data": {
            "text/plain": [
              "(1937, 1)"
            ]
          },
          "metadata": {},
          "execution_count": 24
        }
      ]
    },
    {
      "cell_type": "code",
      "metadata": {
        "id": "CudmSvElJO7X"
      },
      "source": [
        "x_train =[]\n",
        "y_train =[]\n",
        "\n",
        "for i in range(100, data_training_array.shape[0]):\n",
        "    x_train.append(data_training_array[i-100:i])\n",
        "    y_train.append(data_training_array[i, 0])\n",
        "\n",
        "x_train,y_train = np.array(x_train), np.array(y_train)\n",
        "  "
      ],
      "execution_count": null,
      "outputs": []
    },
    {
      "cell_type": "markdown",
      "metadata": {
        "id": "ZmpSxoQPKZGy"
      },
      "source": [
        "## #ML MODEL"
      ]
    },
    {
      "cell_type": "code",
      "metadata": {
        "id": "DYMCmfX4KXHa"
      },
      "source": [
        "from keras.layers import Dense,Dropout , LSTM\n",
        "from keras.models import Sequential"
      ],
      "execution_count": null,
      "outputs": []
    },
    {
      "cell_type": "code",
      "metadata": {
        "id": "ZbyPRIieKpb1"
      },
      "source": [
        "model = Sequential()\n",
        "model.add(LSTM(units= 50, activation = 'relu' , return_sequences= True, input_shape = (x_train.shape[1], 1)))\n",
        "model.add(Dropout(0.2))\n",
        "\n",
        "model.add(LSTM(units= 60, activation = 'relu' , return_sequences= True,))\n",
        "model.add(Dropout(0.3))\n",
        "\n",
        "\n",
        "\n",
        "model.add(LSTM(units= 80, activation = 'relu' , return_sequences= True ))\n",
        "model.add(Dropout(0.4))\n",
        "\n",
        "\n",
        "model.add(LSTM(units= 120, activation = 'relu'))\n",
        "model.add(Dropout(0.5))\n",
        "\n",
        "\n",
        "model.add(Dense(units = 1))"
      ],
      "execution_count": null,
      "outputs": []
    },
    {
      "cell_type": "code",
      "metadata": {
        "colab": {
          "base_uri": "https://localhost:8080/"
        },
        "id": "w55TSR2ULGt7",
        "outputId": "57faefe0-c7de-4047-af25-f16406dd415c"
      },
      "source": [
        "model.summary()"
      ],
      "execution_count": null,
      "outputs": [
        {
          "output_type": "stream",
          "name": "stdout",
          "text": [
            "Model: \"sequential\"\n",
            "_________________________________________________________________\n",
            " Layer (type)                Output Shape              Param #   \n",
            "=================================================================\n",
            " lstm (LSTM)                 (None, 100, 50)           10400     \n",
            "                                                                 \n",
            " dropout (Dropout)           (None, 100, 50)           0         \n",
            "                                                                 \n",
            " lstm_1 (LSTM)               (None, 100, 60)           26640     \n",
            "                                                                 \n",
            " dropout_1 (Dropout)         (None, 100, 60)           0         \n",
            "                                                                 \n",
            " lstm_2 (LSTM)               (None, 100, 80)           45120     \n",
            "                                                                 \n",
            " dropout_2 (Dropout)         (None, 100, 80)           0         \n",
            "                                                                 \n",
            " lstm_3 (LSTM)               (None, 120)               96480     \n",
            "                                                                 \n",
            " dropout_3 (Dropout)         (None, 120)               0         \n",
            "                                                                 \n",
            " dense (Dense)               (None, 1)                 121       \n",
            "                                                                 \n",
            "=================================================================\n",
            "Total params: 178,761\n",
            "Trainable params: 178,761\n",
            "Non-trainable params: 0\n",
            "_________________________________________________________________\n"
          ]
        }
      ]
    },
    {
      "cell_type": "code",
      "metadata": {
        "id": "Tnm4QGR6Os9r"
      },
      "source": [
        "model.compile(optimizer='adam', loss = 'mean_squared_error')\n",
        "model.fit(x_train,y_train, epochs = 50)"
      ],
      "execution_count": null,
      "outputs": []
    },
    {
      "cell_type": "code",
      "metadata": {
        "id": "KdFMkAy7R9bh"
      },
      "source": [
        "model.save('keras_model.h5')"
      ],
      "execution_count": null,
      "outputs": []
    },
    {
      "cell_type": "code",
      "metadata": {
        "id": "KK033TV1SJsT",
        "colab": {
          "base_uri": "https://localhost:8080/",
          "height": 206
        },
        "outputId": "ed052ba1-e3e0-427c-fe5c-0b1ad7806ae5"
      },
      "source": [
        "data_testing.head()"
      ],
      "execution_count": null,
      "outputs": [
        {
          "output_type": "execute_result",
          "data": {
            "text/html": [
              "<div>\n",
              "<style scoped>\n",
              "    .dataframe tbody tr th:only-of-type {\n",
              "        vertical-align: middle;\n",
              "    }\n",
              "\n",
              "    .dataframe tbody tr th {\n",
              "        vertical-align: top;\n",
              "    }\n",
              "\n",
              "    .dataframe thead th {\n",
              "        text-align: right;\n",
              "    }\n",
              "</style>\n",
              "<table border=\"1\" class=\"dataframe\">\n",
              "  <thead>\n",
              "    <tr style=\"text-align: right;\">\n",
              "      <th></th>\n",
              "      <th>Close</th>\n",
              "    </tr>\n",
              "  </thead>\n",
              "  <tbody>\n",
              "    <tr>\n",
              "      <th>1937</th>\n",
              "      <td>39.912498</td>\n",
              "    </tr>\n",
              "    <tr>\n",
              "      <th>1938</th>\n",
              "      <td>39.570000</td>\n",
              "    </tr>\n",
              "    <tr>\n",
              "      <th>1939</th>\n",
              "      <td>39.970001</td>\n",
              "    </tr>\n",
              "    <tr>\n",
              "      <th>1940</th>\n",
              "      <td>39.667500</td>\n",
              "    </tr>\n",
              "    <tr>\n",
              "      <th>1941</th>\n",
              "      <td>39.682499</td>\n",
              "    </tr>\n",
              "  </tbody>\n",
              "</table>\n",
              "</div>"
            ],
            "text/plain": [
              "          Close\n",
              "1937  39.912498\n",
              "1938  39.570000\n",
              "1939  39.970001\n",
              "1940  39.667500\n",
              "1941  39.682499"
            ]
          },
          "metadata": {},
          "execution_count": 31
        }
      ]
    },
    {
      "cell_type": "code",
      "metadata": {
        "id": "0DUxNs-JSR6t"
      },
      "source": [
        "past_100_days = data_training.tail(100)"
      ],
      "execution_count": null,
      "outputs": []
    },
    {
      "cell_type": "code",
      "metadata": {
        "id": "QDy6x4ESSctB"
      },
      "source": [
        "final_df = past_100_days.append(data_testing, ignore_index=True)"
      ],
      "execution_count": null,
      "outputs": []
    },
    {
      "cell_type": "code",
      "metadata": {
        "id": "UnkLST5aSn-p",
        "colab": {
          "base_uri": "https://localhost:8080/",
          "height": 206
        },
        "outputId": "8f6cd21a-54bb-4072-b359-7b44c56d4c8b"
      },
      "source": [
        "final_df.head()"
      ],
      "execution_count": null,
      "outputs": [
        {
          "output_type": "execute_result",
          "data": {
            "text/html": [
              "<div>\n",
              "<style scoped>\n",
              "    .dataframe tbody tr th:only-of-type {\n",
              "        vertical-align: middle;\n",
              "    }\n",
              "\n",
              "    .dataframe tbody tr th {\n",
              "        vertical-align: top;\n",
              "    }\n",
              "\n",
              "    .dataframe thead th {\n",
              "        text-align: right;\n",
              "    }\n",
              "</style>\n",
              "<table border=\"1\" class=\"dataframe\">\n",
              "  <thead>\n",
              "    <tr style=\"text-align: right;\">\n",
              "      <th></th>\n",
              "      <th>Close</th>\n",
              "    </tr>\n",
              "  </thead>\n",
              "  <tbody>\n",
              "    <tr>\n",
              "      <th>0</th>\n",
              "      <td>35.567501</td>\n",
              "    </tr>\n",
              "    <tr>\n",
              "      <th>1</th>\n",
              "      <td>35.910000</td>\n",
              "    </tr>\n",
              "    <tr>\n",
              "      <th>2</th>\n",
              "      <td>36.132500</td>\n",
              "    </tr>\n",
              "    <tr>\n",
              "      <th>3</th>\n",
              "      <td>35.919998</td>\n",
              "    </tr>\n",
              "    <tr>\n",
              "      <th>4</th>\n",
              "      <td>35.947498</td>\n",
              "    </tr>\n",
              "  </tbody>\n",
              "</table>\n",
              "</div>"
            ],
            "text/plain": [
              "       Close\n",
              "0  35.567501\n",
              "1  35.910000\n",
              "2  36.132500\n",
              "3  35.919998\n",
              "4  35.947498"
            ]
          },
          "metadata": {},
          "execution_count": 34
        }
      ]
    },
    {
      "cell_type": "code",
      "metadata": {
        "id": "FNGNPYpoSsKs",
        "colab": {
          "base_uri": "https://localhost:8080/"
        },
        "outputId": "551af389-e73d-4aba-bb5c-3361690d574e"
      },
      "source": [
        "input_data = scaler.fit_transform(final_df)\n",
        "input_data"
      ],
      "execution_count": null,
      "outputs": [
        {
          "output_type": "execute_result",
          "data": {
            "text/plain": [
              "array([[1.97745334e-04],\n",
              "       [3.58404460e-03],\n",
              "       [5.78390957e-03],\n",
              "       [3.68289840e-03],\n",
              "       [3.95479352e-03],\n",
              "       [3.60874862e-03],\n",
              "       [1.08510253e-02],\n",
              "       [1.31497441e-02],\n",
              "       [1.20374596e-02],\n",
              "       [1.07274298e-02],\n",
              "       [1.67338264e-02],\n",
              "       [2.67444246e-02],\n",
              "       [2.91667767e-02],\n",
              "       [2.73623646e-02],\n",
              "       [2.90678851e-02],\n",
              "       [3.43821920e-02],\n",
              "       [3.33934653e-02],\n",
              "       [3.28249711e-02],\n",
              "       [1.99223803e-02],\n",
              "       [2.55826944e-02],\n",
              "       [2.68680202e-02],\n",
              "       [2.91667767e-02],\n",
              "       [2.86971362e-02],\n",
              "       [2.75601100e-02],\n",
              "       [2.88701398e-02],\n",
              "       [2.82274958e-02],\n",
              "       [2.83757953e-02],\n",
              "       [2.61264846e-02],\n",
              "       [2.71646193e-02],\n",
              "       [3.27755253e-02],\n",
              "       [2.90184394e-02],\n",
              "       [3.03037652e-02],\n",
              "       [3.25777800e-02],\n",
              "       [3.16385368e-02],\n",
              "       [1.67832345e-02],\n",
              "       [7.98377455e-03],\n",
              "       [1.08757293e-02],\n",
              "       [7.34113050e-03],\n",
              "       [5.19067357e-03],\n",
              "       [1.97745334e-04],\n",
              "       [1.02577893e-02],\n",
              "       [6.97034386e-03],\n",
              "       [9.09605905e-03],\n",
              "       [8.50286076e-03],\n",
              "       [1.01094897e-02],\n",
              "       [8.97250122e-03],\n",
              "       [3.80649395e-03],\n",
              "       [8.99720524e-03],\n",
              "       [3.68289840e-03],\n",
              "       [4.52332550e-03],\n",
              "       [3.23799969e-03],\n",
              "       [4.69632910e-03],\n",
              "       [1.33473386e-03],\n",
              "       [4.91877845e-03],\n",
              "       [7.09393941e-03],\n",
              "       [8.25566967e-03],\n",
              "       [8.77475588e-03],\n",
              "       [1.37924259e-02],\n",
              "       [1.69315340e-02],\n",
              "       [1.82168598e-02],\n",
              "       [1.95021856e-02],\n",
              "       [2.18256462e-02],\n",
              "       [2.01448297e-02],\n",
              "       [1.99718261e-02],\n",
              "       [2.44704099e-02],\n",
              "       [2.60770766e-02],\n",
              "       [2.78567468e-02],\n",
              "       [2.06886199e-02],\n",
              "       [1.80685603e-02],\n",
              "       [1.61652944e-02],\n",
              "       [1.94280359e-02],\n",
              "       [3.69528059e-02],\n",
              "       [3.30721621e-02],\n",
              "       [3.50989858e-02],\n",
              "       [4.10806407e-02],\n",
              "       [4.42197866e-02],\n",
              "       [4.66421009e-02],\n",
              "       [3.24542221e-02],\n",
              "       [3.77931953e-02],\n",
              "       [4.36512923e-02],\n",
              "       [4.79768725e-02],\n",
              "       [4.63702058e-02],\n",
              "       [3.87324762e-02],\n",
              "       [3.78426410e-02],\n",
              "       [3.71258472e-02],\n",
              "       [4.34782510e-02],\n",
              "       [4.39725955e-02],\n",
              "       [4.22176670e-02],\n",
              "       [4.36759964e-02],\n",
              "       [4.76555316e-02],\n",
              "       [5.12148722e-02],\n",
              "       [5.23024527e-02],\n",
              "       [5.39090817e-02],\n",
              "       [5.40326772e-02],\n",
              "       [4.91633068e-02],\n",
              "       [4.87431121e-02],\n",
              "       [4.71364454e-02],\n",
              "       [4.06357420e-02],\n",
              "       [4.77296814e-02],\n",
              "       [4.61477565e-02],\n",
              "       [4.31569101e-02],\n",
              "       [3.97706109e-02],\n",
              "       [4.37254421e-02],\n",
              "       [4.07345958e-02],\n",
              "       [4.08828954e-02],\n",
              "       [3.43080422e-02],\n",
              "       [2.76837055e-02],\n",
              "       [2.39760654e-02],\n",
              "       [2.06639159e-02],\n",
              "       [2.70657655e-02],\n",
              "       [2.97599750e-02],\n",
              "       [2.74118104e-02],\n",
              "       [2.94880798e-02],\n",
              "       [2.87218402e-02],\n",
              "       [3.03779150e-02],\n",
              "       [2.79061549e-02],\n",
              "       [3.26272257e-02],\n",
              "       [3.24047764e-02],\n",
              "       [3.37395102e-02],\n",
              "       [3.38878098e-02],\n",
              "       [3.54944765e-02],\n",
              "       [3.41350009e-02],\n",
              "       [3.65820570e-02],\n",
              "       [4.37254421e-02],\n",
              "       [4.51837715e-02],\n",
              "       [4.34288053e-02],\n",
              "       [3.40855551e-02],\n",
              "       [3.47529409e-02],\n",
              "       [3.45551956e-02],\n",
              "       [3.68539521e-02],\n",
              "       [3.51484316e-02],\n",
              "       [3.76201917e-02],\n",
              "       [5.15609171e-02],\n",
              "       [6.06322721e-02],\n",
              "       [6.63667359e-02],\n",
              "       [6.10524668e-02],\n",
              "       [6.40680172e-02],\n",
              "       [7.49190425e-02],\n",
              "       [7.92446226e-02],\n",
              "       [8.06288023e-02],\n",
              "       [8.41634388e-02],\n",
              "       [8.32736037e-02],\n",
              "       [8.02827573e-02],\n",
              "       [7.85525328e-02],\n",
              "       [7.20517917e-02],\n",
              "       [6.64656275e-02],\n",
              "       [7.14585934e-02],\n",
              "       [6.91103912e-02],\n",
              "       [6.86901965e-02],\n",
              "       [7.65009674e-02],\n",
              "       [8.09995889e-02],\n",
              "       [8.10242929e-02],\n",
              "       [7.88491320e-02],\n",
              "       [7.63279638e-02],\n",
              "       [6.74543164e-02],\n",
              "       [7.33124135e-02],\n",
              "       [7.13349979e-02],\n",
              "       [6.82452977e-02],\n",
              "       [6.78498071e-02],\n",
              "       [6.62925862e-02],\n",
              "       [6.70588635e-02],\n",
              "       [6.71824213e-02],\n",
              "       [7.53392372e-02],\n",
              "       [7.29416268e-02],\n",
              "       [7.43505482e-02],\n",
              "       [7.42269527e-02],\n",
              "       [7.85525328e-02],\n",
              "       [8.46083375e-02],\n",
              "       [7.99614165e-02],\n",
              "       [7.94918137e-02],\n",
              "       [8.11231467e-02],\n",
              "       [8.11231467e-02],\n",
              "       [7.01485636e-02],\n",
              "       [7.02227134e-02],\n",
              "       [7.14091477e-02],\n",
              "       [6.68363764e-02],\n",
              "       [7.43258065e-02],\n",
              "       [7.42516567e-02],\n",
              "       [7.62290723e-02],\n",
              "       [8.10984427e-02],\n",
              "       [7.94918137e-02],\n",
              "       [7.94423680e-02],\n",
              "       [7.93434764e-02],\n",
              "       [8.17905325e-02],\n",
              "       [8.62644123e-02],\n",
              "       [8.40398433e-02],\n",
              "       [9.12326742e-02],\n",
              "       [9.16281271e-02],\n",
              "       [8.96507492e-02],\n",
              "       [8.60419629e-02],\n",
              "       [8.61408167e-02],\n",
              "       [7.91704728e-02],\n",
              "       [7.14832974e-02],\n",
              "       [7.24719864e-02],\n",
              "       [6.36972682e-02],\n",
              "       [6.12502122e-02],\n",
              "       [6.23872007e-02],\n",
              "       [6.32523318e-02],\n",
              "       [4.52579213e-02],\n",
              "       [3.53461769e-02],\n",
              "       [5.15114713e-02],\n",
              "       [4.28850150e-02],\n",
              "       [3.20339897e-02],\n",
              "       [3.51484316e-02],\n",
              "       [5.07205277e-02],\n",
              "       [5.47494710e-02],\n",
              "       [6.22389011e-02],\n",
              "       [7.61302185e-02],\n",
              "       [7.47460012e-02],\n",
              "       [7.33124135e-02],\n",
              "       [7.13844436e-02],\n",
              "       [7.49190425e-02],\n",
              "       [8.23343228e-02],\n",
              "       [9.09113333e-02],\n",
              "       [8.94777079e-02],\n",
              "       [8.88103221e-02],\n",
              "       [8.10984427e-02],\n",
              "       [8.40892890e-02],\n",
              "       [8.55970642e-02],\n",
              "       [8.52262775e-02],\n",
              "       [8.11725925e-02],\n",
              "       [8.58936633e-02],\n",
              "       [9.34077974e-02],\n",
              "       [9.77086736e-02],\n",
              "       [9.33830934e-02],\n",
              "       [8.96013035e-02],\n",
              "       [9.01203520e-02],\n",
              "       [8.85631688e-02],\n",
              "       [8.18399783e-02],\n",
              "       [8.16916787e-02],\n",
              "       [7.18787881e-02],\n",
              "       [6.58971332e-02],\n",
              "       [5.62325422e-02],\n",
              "       [7.55864283e-02],\n",
              "       [6.46365114e-02],\n",
              "       [6.00390361e-02],\n",
              "       [6.32523318e-02],\n",
              "       [6.05333806e-02],\n",
              "       [6.47601070e-02],\n",
              "       [7.27191775e-02],\n",
              "       [7.56605780e-02],\n",
              "       [6.47354029e-02],\n",
              "       [6.88632378e-02],\n",
              "       [7.67728625e-02],\n",
              "       [7.47707429e-02],\n",
              "       [7.89727275e-02],\n",
              "       [8.04310569e-02],\n",
              "       [8.31253041e-02],\n",
              "       [8.91069590e-02],\n",
              "       [8.81182323e-02],\n",
              "       [7.56605780e-02],\n",
              "       [5.81605120e-02],\n",
              "       [5.69740777e-02],\n",
              "       [5.12890220e-02],\n",
              "       [5.30439505e-02],\n",
              "       [5.44528719e-02],\n",
              "       [4.97565428e-02],\n",
              "       [5.70234858e-02],\n",
              "       [6.65150732e-02],\n",
              "       [8.49791242e-02],\n",
              "       [8.57700678e-02],\n",
              "       [1.02924089e-01],\n",
              "       [1.06211534e-01],\n",
              "       [1.08411399e-01],\n",
              "       [1.11649399e-01],\n",
              "       [1.18273698e-01],\n",
              "       [1.14689653e-01],\n",
              "       [1.13602073e-01],\n",
              "       [1.09375384e-01],\n",
              "       [1.13676223e-01],\n",
              "       [1.10734860e-01],\n",
              "       [1.09054043e-01],\n",
              "       [1.12316785e-01],\n",
              "       [1.11155055e-01],\n",
              "       [1.14121159e-01],\n",
              "       [1.13602073e-01],\n",
              "       [1.14664949e-01],\n",
              "       [1.12984133e-01],\n",
              "       [1.11995444e-01],\n",
              "       [1.10438223e-01],\n",
              "       [1.18768080e-01],\n",
              "       [1.22698170e-01],\n",
              "       [1.26356364e-01],\n",
              "       [1.28012439e-01],\n",
              "       [1.26727151e-01],\n",
              "       [1.22376829e-01],\n",
              "       [1.21215098e-01],\n",
              "       [1.23810454e-01],\n",
              "       [1.19905069e-01],\n",
              "       [1.20152260e-01],\n",
              "       [1.15307593e-01],\n",
              "       [1.15060440e-01],\n",
              "       [1.07521564e-01],\n",
              "       [1.09523684e-01],\n",
              "       [1.06953070e-01],\n",
              "       [1.05618298e-01],\n",
              "       [9.88209581e-02],\n",
              "       [1.04407122e-01],\n",
              "       [1.03739774e-01],\n",
              "       [1.07051924e-01],\n",
              "       [1.06087939e-01],\n",
              "       [1.11204463e-01],\n",
              "       [1.03146538e-01],\n",
              "       [1.06804733e-01],\n",
              "       [1.13157174e-01],\n",
              "       [1.19608470e-01],\n",
              "       [1.19039975e-01],\n",
              "       [1.12934725e-01],\n",
              "       [1.20720754e-01],\n",
              "       [1.21462290e-01],\n",
              "       [1.20424155e-01],\n",
              "       [1.21758889e-01],\n",
              "       [1.19163533e-01],\n",
              "       [1.22821765e-01],\n",
              "       [1.21734185e-01],\n",
              "       [1.22154379e-01],\n",
              "       [1.25590124e-01],\n",
              "       [1.30088746e-01],\n",
              "       [1.28580971e-01],\n",
              "       [1.20597158e-01],\n",
              "       [1.17952395e-01],\n",
              "       [1.18891638e-01],\n",
              "       [1.46600085e-01],\n",
              "       [1.61158751e-01],\n",
              "       [1.62641822e-01],\n",
              "       [1.65311327e-01],\n",
              "       [1.60466661e-01],\n",
              "       [1.60812706e-01],\n",
              "       [1.64841687e-01],\n",
              "       [1.61504796e-01],\n",
              "       [1.64816945e-01],\n",
              "       [1.66992106e-01],\n",
              "       [1.68203282e-01],\n",
              "       [1.75816308e-01],\n",
              "       [1.86345992e-01],\n",
              "       [1.81105873e-01],\n",
              "       [1.80067700e-01],\n",
              "       [1.80092442e-01],\n",
              "       [1.81180023e-01],\n",
              "       [1.82836097e-01],\n",
              "       [1.87235827e-01],\n",
              "       [1.91586111e-01],\n",
              "       [1.99693482e-01],\n",
              "       [2.04760597e-01],\n",
              "       [2.11187189e-01],\n",
              "       [2.12991563e-01],\n",
              "       [2.09308627e-01],\n",
              "       [1.99990118e-01],\n",
              "       [1.95540943e-01],\n",
              "       [1.88199812e-01],\n",
              "       [2.01843938e-01],\n",
              "       [1.94972448e-01],\n",
              "       [2.08171638e-01],\n",
              "       [2.01819197e-01],\n",
              "       [1.87087528e-01],\n",
              "       [1.87977363e-01],\n",
              "       [1.88298666e-01],\n",
              "       [1.92401797e-01],\n",
              "       [1.86543737e-01],\n",
              "       [1.94280321e-01],\n",
              "       [1.97740808e-01],\n",
              "       [1.93365782e-01],\n",
              "       [2.04562852e-01],\n",
              "       [2.06515564e-01],\n",
              "       [2.10272612e-01],\n",
              "       [2.15265578e-01],\n",
              "       [2.22161809e-01],\n",
              "       [2.12077024e-01],\n",
              "       [2.02931481e-01],\n",
              "       [2.01646193e-01],\n",
              "       [2.09308627e-01],\n",
              "       [1.83330442e-01],\n",
              "       [1.78609371e-01],\n",
              "       [1.97543062e-01],\n",
              "       [1.85802202e-01],\n",
              "       [1.97641916e-01],\n",
              "       [1.95269048e-01],\n",
              "       [1.82490052e-01],\n",
              "       [1.90622127e-01],\n",
              "       [1.93934276e-01],\n",
              "       [1.99075542e-01],\n",
              "       [1.80191296e-01],\n",
              "       [1.91833303e-01],\n",
              "       [1.83182142e-01],\n",
              "       [1.73146802e-01],\n",
              "       [1.75766862e-01],\n",
              "       [1.89509842e-01],\n",
              "       [1.97814957e-01],\n",
              "       [1.61381200e-01],\n",
              "       [1.46822535e-01],\n",
              "       [1.52210991e-01],\n",
              "       [1.67486451e-01],\n",
              "       [1.63877702e-01],\n",
              "       [1.53941216e-01],\n",
              "       [1.28482079e-01],\n",
              "       [1.23686859e-01],\n",
              "       [1.10265219e-01],\n",
              "       [1.21660035e-01],\n",
              "       [1.26900154e-01],\n",
              "       [1.07941759e-01],\n",
              "       [8.59925171e-02],\n",
              "       [8.54981727e-02],\n",
              "       [7.43999562e-02],\n",
              "       [8.01591618e-02],\n",
              "       [7.92199186e-02],\n",
              "       [9.57807037e-02],\n",
              "       [9.23449587e-02],\n",
              "       [8.99473484e-02],\n",
              "       [1.05371145e-01],\n",
              "       [8.52757233e-02],\n",
              "       [8.04063529e-02],\n",
              "       [6.50072981e-02],\n",
              "       [6.77509533e-02],\n",
              "       [6.53533430e-02],\n",
              "       [6.65150732e-02],\n",
              "       [7.10878068e-02],\n",
              "       [5.75672760e-02],\n",
              "       [5.37607821e-02],\n",
              "       [5.90256432e-02],\n",
              "       [4.62219062e-02],\n",
              "       [3.61865663e-02],\n",
              "       [2.11088146e-02],\n",
              "       [1.14689653e-02],\n",
              "       [3.70269557e-02],\n",
              "       [3.45057498e-02],\n",
              "       [3.47034951e-02],\n",
              "       [3.84358770e-02],\n",
              "       [3.88807757e-02],\n",
              "       [0.00000000e+00],\n",
              "       [1.50035642e-02],\n",
              "       [1.41878788e-02],\n",
              "       [2.11582604e-02],\n",
              "       [2.74859602e-02],\n",
              "       [2.86971362e-02],\n",
              "       [2.49647543e-02],\n",
              "       [1.93044403e-02],\n",
              "       [2.68927619e-02],\n",
              "       [3.15149412e-02],\n",
              "       [3.37889560e-02],\n",
              "       [3.61618623e-02],\n",
              "       [2.74612562e-02],\n",
              "       [2.89937354e-02],\n",
              "       [2.59781850e-02],\n",
              "       [3.84852851e-02],\n",
              "       [3.48765365e-02],\n",
              "       [3.08722595e-02],\n",
              "       [5.69987818e-02],\n",
              "       [5.99401823e-02],\n",
              "       [6.01379277e-02],\n",
              "       [7.18293423e-02],\n",
              "       [7.90715813e-02],\n",
              "       [7.92199186e-02],\n",
              "       [7.10631027e-02],\n",
              "       [6.97530729e-02],\n",
              "       [6.73307209e-02],\n",
              "       [7.09395072e-02],\n",
              "       [6.91845409e-02],\n",
              "       [7.07170578e-02],\n",
              "       [6.97777769e-02],\n",
              "       [7.10383610e-02],\n",
              "       [7.37573122e-02],\n",
              "       [7.13597019e-02],\n",
              "       [7.60807727e-02],\n",
              "       [7.91951769e-02],\n",
              "       [7.94423680e-02],\n",
              "       [8.07771018e-02],\n",
              "       [7.65256714e-02],\n",
              "       [8.10242929e-02],\n",
              "       [8.31994539e-02],\n",
              "       [8.24084725e-02],\n",
              "       [7.99120084e-02],\n",
              "       [7.49190425e-02],\n",
              "       [7.59324732e-02],\n",
              "       [9.07382920e-02],\n",
              "       [9.57065539e-02],\n",
              "       [9.76839695e-02],\n",
              "       [1.02676898e-01],\n",
              "       [1.08584403e-01],\n",
              "       [1.13280770e-01],\n",
              "       [1.09597834e-01],\n",
              "       [1.13626815e-01],\n",
              "       [1.30756094e-01],\n",
              "       [1.20770200e-01],\n",
              "       [1.15060440e-01],\n",
              "       [1.10240478e-01],\n",
              "       [1.14393054e-01],\n",
              "       [1.15010994e-01],\n",
              "       [1.18051249e-01],\n",
              "       [1.21239840e-01],\n",
              "       [1.28111330e-01],\n",
              "       [1.31398776e-01],\n",
              "       [1.32239165e-01],\n",
              "       [1.35477165e-01],\n",
              "       [1.43139636e-01],\n",
              "       [1.41656565e-01],\n",
              "       [1.44424924e-01],\n",
              "       [1.40297089e-01],\n",
              "       [1.40099344e-01],\n",
              "       [1.40989179e-01],\n",
              "       [1.41038625e-01],\n",
              "       [1.50629066e-01],\n",
              "       [1.52433441e-01],\n",
              "       [1.54089515e-01],\n",
              "       [1.61381200e-01],\n",
              "       [1.60590256e-01],\n",
              "       [1.55943335e-01],\n",
              "       [1.53521021e-01],\n",
              "       [1.54287261e-01],\n",
              "       [1.44548520e-01],\n",
              "       [1.68895372e-01],\n",
              "       [1.65509035e-01],\n",
              "       [1.71935626e-01],\n",
              "       [1.63852960e-01],\n",
              "       [1.49961680e-01],\n",
              "       [1.50060534e-01],\n",
              "       [1.44672115e-01],\n",
              "       [1.35922064e-01],\n",
              "       [1.07595714e-01],\n",
              "       [1.14862695e-01],\n",
              "       [1.20448859e-01],\n",
              "       [1.18372589e-01],\n",
              "       [1.15703084e-01],\n",
              "       [1.01094973e-01],\n",
              "       [1.09770875e-01],\n",
              "       [1.00328733e-01],\n",
              "       [9.26168538e-02],\n",
              "       [9.09113333e-02],\n",
              "       [8.90822173e-02],\n",
              "       [8.69812438e-02],\n",
              "       [8.92552586e-02],\n",
              "       [8.12714840e-02],\n",
              "       [7.68964581e-02],\n",
              "       [9.25674080e-02],\n",
              "       [9.97354972e-02],\n",
              "       [1.06359834e-01],\n",
              "       [1.18545593e-01],\n",
              "       [1.24551990e-01],\n",
              "       [1.30064004e-01],\n",
              "       [1.28531525e-01],\n",
              "       [1.28432633e-01],\n",
              "       [1.24947480e-01],\n",
              "       [1.27789989e-01],\n",
              "       [1.39061209e-01],\n",
              "       [1.37627584e-01],\n",
              "       [1.41557711e-01],\n",
              "       [1.39876895e-01],\n",
              "       [1.39382550e-01],\n",
              "       [1.31942566e-01],\n",
              "       [1.42398101e-01],\n",
              "       [1.42249801e-01],\n",
              "       [1.37751180e-01],\n",
              "       [1.46723681e-01],\n",
              "       [1.49640340e-01],\n",
              "       [1.53792916e-01],\n",
              "       [1.53347980e-01],\n",
              "       [1.42941891e-01],\n",
              "       [1.45957441e-01],\n",
              "       [1.50876220e-01],\n",
              "       [1.47218025e-01],\n",
              "       [1.51049261e-01],\n",
              "       [1.55770332e-01],\n",
              "       [1.54015366e-01],\n",
              "       [1.51172857e-01],\n",
              "       [1.56882616e-01],\n",
              "       [1.49294295e-01],\n",
              "       [1.60738556e-01],\n",
              "       [1.64742795e-01],\n",
              "       [1.64322601e-01],\n",
              "       [1.60244212e-01],\n",
              "       [1.62023882e-01],\n",
              "       [1.66819065e-01],\n",
              "       [1.64594496e-01],\n",
              "       [1.75124180e-01],\n",
              "       [1.63729365e-01],\n",
              "       [1.52828931e-01],\n",
              "       [1.26430514e-01],\n",
              "       [1.35477165e-01],\n",
              "       [1.40519539e-01],\n",
              "       [1.51370564e-01],\n",
              "       [1.45339501e-01],\n",
              "       [1.44078879e-01],\n",
              "       [1.65064136e-01],\n",
              "       [1.49689785e-01],\n",
              "       [1.47193321e-01],\n",
              "       [1.58958886e-01],\n",
              "       [1.68475177e-01],\n",
              "       [1.68499881e-01],\n",
              "       [1.74135491e-01],\n",
              "       [1.73690592e-01],\n",
              "       [1.49417890e-01],\n",
              "       [1.58934182e-01],\n",
              "       [1.53174976e-01],\n",
              "       [1.56561275e-01],\n",
              "       [1.65162990e-01],\n",
              "       [1.64495642e-01],\n",
              "       [1.56981470e-01],\n",
              "       [1.65607926e-01],\n",
              "       [1.75717416e-01],\n",
              "       [1.75667970e-01],\n",
              "       [1.77917281e-01],\n",
              "       [1.84170831e-01],\n",
              "       [2.01201257e-01],\n",
              "       [1.99965377e-01],\n",
              "       [1.89237947e-01],\n",
              "       [1.92080456e-01],\n",
              "       [1.94057872e-01],\n",
              "       [1.99174433e-01],\n",
              "       [1.94700553e-01],\n",
              "       [1.86716741e-01],\n",
              "       [1.89163797e-01],\n",
              "       [1.86593145e-01],\n",
              "       [1.94873557e-01],\n",
              "       [1.92055752e-01],\n",
              "       [1.89410988e-01],\n",
              "       [2.02140538e-01],\n",
              "       [2.03673017e-01],\n",
              "       [1.89757033e-01],\n",
              "       [1.94354508e-01],\n",
              "       [2.09654672e-01],\n",
              "       [2.09778267e-01],\n",
              "       [2.03203376e-01],\n",
              "       [2.09704117e-01],\n",
              "       [2.17267697e-01],\n",
              "       [2.32394895e-01],\n",
              "       [2.31554468e-01],\n",
              "       [2.30195030e-01],\n",
              "       [2.27846828e-01],\n",
              "       [2.30096138e-01],\n",
              "       [2.32889239e-01],\n",
              "       [2.43023433e-01],\n",
              "       [2.41663995e-01],\n",
              "       [2.49623028e-01],\n",
              "       [2.50611755e-01],\n",
              "       [2.58027035e-01],\n",
              "       [2.64132285e-01],\n",
              "       [2.49894923e-01],\n",
              "       [2.49820773e-01],\n",
              "       [2.63415454e-01],\n",
              "       [2.80866112e-01],\n",
              "       [2.85018651e-01],\n",
              "       [2.84104111e-01],\n",
              "       [2.84375969e-01],\n",
              "       [2.89789129e-01],\n",
              "       [2.91544133e-01],\n",
              "       [2.96635953e-01],\n",
              "       [2.96042680e-01],\n",
              "       [3.02246821e-01],\n",
              "       [2.97723534e-01],\n",
              "       [3.05435413e-01],\n",
              "       [3.08747563e-01],\n",
              "       [3.06745443e-01],\n",
              "       [2.99082972e-01],\n",
              "       [2.96166313e-01],\n",
              "       [2.95597781e-01],\n",
              "       [3.06943151e-01],\n",
              "       [3.01801923e-01],\n",
              "       [3.10576641e-01],\n",
              "       [3.09118312e-01],\n",
              "       [3.01480582e-01],\n",
              "       [2.89838613e-01],\n",
              "       [2.95498889e-01],\n",
              "       [3.04990439e-01],\n",
              "       [3.17670580e-01],\n",
              "       [3.08302664e-01],\n",
              "       [3.12158604e-01],\n",
              "       [3.17818880e-01],\n",
              "       [3.19524400e-01],\n",
              "       [3.28645201e-01],\n",
              "       [3.40287170e-01],\n",
              "       [3.41646683e-01],\n",
              "       [3.39990571e-01],\n",
              "       [3.40682661e-01],\n",
              "       [3.39249073e-01],\n",
              "       [3.50520293e-01],\n",
              "       [3.51187641e-01],\n",
              "       [3.65128404e-01],\n",
              "       [3.64856472e-01],\n",
              "       [3.69107902e-01],\n",
              "       [3.74372763e-01],\n",
              "       [3.90933586e-01],\n",
              "       [3.83716013e-01],\n",
              "       [3.89574072e-01],\n",
              "       [3.86088957e-01],\n",
              "       [3.97953375e-01],\n",
              "       [4.13871516e-01],\n",
              "       [4.15601703e-01],\n",
              "       [4.31989485e-01],\n",
              "       [4.21410355e-01],\n",
              "       [4.18098205e-01],\n",
              "       [4.27738054e-01],\n",
              "       [4.36364548e-01],\n",
              "       [4.31025538e-01],\n",
              "       [4.33818639e-01],\n",
              "       [4.37600428e-01],\n",
              "       [4.35326376e-01],\n",
              "       [4.12190738e-01],\n",
              "       [4.33793897e-01],\n",
              "       [4.50231086e-01],\n",
              "       [4.49069356e-01],\n",
              "       [4.13574917e-01],\n",
              "       [4.11473906e-01],\n",
              "       [4.36661148e-01],\n",
              "       [4.43087739e-01],\n",
              "       [4.52381506e-01],\n",
              "       [4.39577806e-01],\n",
              "       [4.43334855e-01],\n",
              "       [4.38539634e-01],\n",
              "       [4.57300359e-01],\n",
              "       [4.51541116e-01],\n",
              "       [4.51738899e-01],\n",
              "       [4.37031896e-01],\n",
              "       [4.48451416e-01],\n",
              "       [4.40245154e-01],\n",
              "       [4.22324894e-01],\n",
              "       [3.85569833e-01],\n",
              "       [3.60605041e-01],\n",
              "       [3.71901003e-01],\n",
              "       [3.24616220e-01],\n",
              "       [3.24220730e-01],\n",
              "       [3.87127054e-01],\n",
              "       [3.63670075e-01],\n",
              "       [3.96841053e-01],\n",
              "       [3.72568426e-01],\n",
              "       [3.62953243e-01],\n",
              "       [3.06448844e-01],\n",
              "       [3.53832443e-01],\n",
              "       [3.29337291e-01],\n",
              "       [2.62105424e-01],\n",
              "       [3.35615583e-01],\n",
              "       [2.47225455e-01],\n",
              "       [2.73549685e-01],\n",
              "       [2.58249484e-01],\n",
              "       [2.53577859e-01],\n",
              "       [2.15166724e-01],\n",
              "       [2.03129227e-01],\n",
              "       [2.58768570e-01],\n",
              "       [2.55406975e-01],\n",
              "       [2.87342111e-01],\n",
              "       [2.60894286e-01],\n",
              "       [2.78369610e-01],\n",
              "       [2.77084284e-01],\n",
              "       [2.44012160e-01],\n",
              "       [2.53948608e-01],\n",
              "       [2.45248040e-01],\n",
              "       [2.97303301e-01],\n",
              "       [2.89789129e-01],\n",
              "       [3.06201653e-01],\n",
              "       [3.10947390e-01],\n",
              "       [3.23948872e-01],\n",
              "       [3.58059131e-01],\n",
              "       [3.51583132e-01],\n",
              "       [3.57169334e-01],\n",
              "       [3.47554151e-01],\n",
              "       [3.33044931e-01],\n",
              "       [3.11886671e-01],\n",
              "       [3.30993403e-01],\n",
              "       [3.28348602e-01],\n",
              "       [3.47974383e-01],\n",
              "       [3.48468765e-01],\n",
              "       [3.37123320e-01],\n",
              "       [3.59739985e-01],\n",
              "       [3.74743512e-01],\n",
              "       [3.63052135e-01],\n",
              "       [3.73161625e-01],\n",
              "       [3.84037354e-01],\n",
              "       [3.91625676e-01],\n",
              "       [3.99312813e-01],\n",
              "       [4.15107396e-01],\n",
              "       [4.27169598e-01],\n",
              "       [4.18271246e-01],\n",
              "       [4.08977404e-01],\n",
              "       [4.13649067e-01],\n",
              "       [4.09125704e-01],\n",
              "       [4.27045965e-01],\n",
              "       [4.22547419e-01],\n",
              "       [4.37600428e-01],\n",
              "       [4.31717627e-01],\n",
              "       [4.36760039e-01],\n",
              "       [4.31421028e-01],\n",
              "       [4.34831994e-01],\n",
              "       [4.35178076e-01],\n",
              "       [4.34411837e-01],\n",
              "       [4.44076428e-01],\n",
              "       [4.47759326e-01],\n",
              "       [4.52159056e-01],\n",
              "       [4.45238158e-01],\n",
              "       [4.67928898e-01],\n",
              "       [4.72773526e-01],\n",
              "       [4.98801157e-01],\n",
              "       [5.20676249e-01],\n",
              "       [4.78804627e-01],\n",
              "       [4.85972716e-01],\n",
              "       [4.96329397e-01],\n",
              "       [5.18797687e-01],\n",
              "       [5.17586549e-01],\n",
              "       [5.17932632e-01],\n",
              "       [5.12964370e-01],\n",
              "       [5.35580959e-01],\n",
              "       [5.54514651e-01],\n",
              "       [5.38522360e-01],\n",
              "       [5.50337370e-01],\n",
              "       [5.22628961e-01],\n",
              "       [5.42773790e-01],\n",
              "       [5.50238479e-01],\n",
              "       [5.48532958e-01],\n",
              "       [5.48532958e-01],\n",
              "       [5.72607953e-01],\n",
              "       [5.69740702e-01],\n",
              "       [5.91195562e-01],\n",
              "       [5.95249284e-01],\n",
              "       [5.96905321e-01],\n",
              "       [5.92530333e-01],\n",
              "       [6.08151875e-01],\n",
              "       [6.14751432e-01],\n",
              "       [6.02862272e-01],\n",
              "       [6.00934302e-01],\n",
              "       [6.21004982e-01],\n",
              "       [6.07583343e-01],\n",
              "       [6.10277553e-01],\n",
              "       [5.66502702e-01],\n",
              "       [5.64228650e-01],\n",
              "       [5.85930701e-01],\n",
              "       [5.70531683e-01],\n",
              "       [5.88204753e-01],\n",
              "       [5.99574865e-01],\n",
              "       [6.99137358e-01],\n",
              "       [7.25609888e-01],\n",
              "       [7.32802719e-01],\n",
              "       [7.36732808e-01],\n",
              "       [7.74699007e-01],\n",
              "       [7.47114231e-01],\n",
              "       [7.63081780e-01],\n",
              "       [7.29935468e-01],\n",
              "       [7.65874881e-01],\n",
              "       [7.85648961e-01],\n",
              "       [7.84635531e-01],\n",
              "       [7.81669389e-01],\n",
              "       [7.91111530e-01],\n",
              "       [7.92545118e-01],\n",
              "       [8.17930142e-01],\n",
              "       [8.78191666e-01],\n",
              "       [8.92898593e-01],\n",
              "       [8.82690212e-01],\n",
              "       [8.99473484e-01],\n",
              "       [8.84519365e-01],\n",
              "       [8.82517246e-01],\n",
              "       [9.24364051e-01],\n",
              "       [9.75183432e-01],\n",
              "       [9.47697472e-01],\n",
              "       [8.43685840e-01],\n",
              "       [8.44476822e-01],\n",
              "       [7.63996319e-01],\n",
              "       [8.08488001e-01],\n",
              "       [7.70620618e-01],\n",
              "       [7.55888949e-01],\n",
              "       [7.89109411e-01],\n",
              "       [7.90889081e-01],\n",
              "       [7.57174237e-01],\n",
              "       [7.39476426e-01],\n",
              "       [7.04871784e-01],\n",
              "       [7.36905849e-01],\n",
              "       [7.54010387e-01],\n",
              "       [7.07640219e-01],\n",
              "       [7.18515948e-01],\n",
              "       [7.58657308e-01],\n",
              "       [7.85154579e-01],\n",
              "       [7.76552827e-01],\n",
              "       [7.93558549e-01],\n",
              "       [8.03247881e-01],\n",
              "       [7.65973697e-01],\n",
              "       [8.00380631e-01],\n",
              "       [7.67357952e-01],\n",
              "       [7.86341051e-01],\n",
              "       [7.85253471e-01],\n",
              "       [8.05027552e-01],\n",
              "       [8.78488265e-01],\n",
              "       [8.45861001e-01],\n",
              "       [8.46750874e-01],\n",
              "       [8.42005061e-01],\n",
              "       [8.25295939e-01],\n",
              "       [7.95239403e-01],\n",
              "       [8.10366562e-01],\n",
              "       [8.04038863e-01],\n",
              "       [7.92965350e-01],\n",
              "       [7.85945561e-01],\n",
              "       [7.86044452e-01],\n",
              "       [8.01369319e-01],\n",
              "       [7.47979286e-01],\n",
              "       [7.88713920e-01],\n",
              "       [7.24843648e-01],\n",
              "       [7.23953775e-01],\n",
              "       [7.40465190e-01],\n",
              "       [7.85055688e-01],\n",
              "       [8.25394831e-01],\n",
              "       [8.22033273e-01],\n",
              "       [7.98600960e-01],\n",
              "       [7.95140511e-01],\n",
              "       [8.29942860e-01],\n",
              "       [8.27174501e-01],\n",
              "       [8.27668883e-01],\n",
              "       [8.37951414e-01],\n",
              "       [8.28954171e-01],\n",
              "       [8.15507790e-01],\n",
              "       [8.21538891e-01],\n",
              "       [8.08685708e-01],\n",
              "       [7.74179958e-01],\n",
              "       [7.87230849e-01],\n",
              "       [7.95733709e-01],\n",
              "       [8.01270428e-01],\n",
              "       [8.25592614e-01],\n",
              "       [8.61878034e-01],\n",
              "       [8.65437374e-01],\n",
              "       [8.64053195e-01],\n",
              "       [8.57231113e-01],\n",
              "       [8.72061673e-01],\n",
              "       [8.78290482e-01],\n",
              "       [8.52584192e-01],\n",
              "       [8.67019262e-01],\n",
              "       [8.58813075e-01],\n",
              "       [8.52584192e-01],\n",
              "       [9.12895123e-01],\n",
              "       [9.12203033e-01],\n",
              "       [9.21002493e-01],\n",
              "       [9.00832997e-01],\n",
              "       [9.16355572e-01],\n",
              "       [9.52443360e-01],\n",
              "       [9.43347301e-01],\n",
              "       [9.53333157e-01],\n",
              "       [1.00000000e+00],\n",
              "       [9.82005514e-01],\n",
              "       [9.70635478e-01]])"
            ]
          },
          "metadata": {},
          "execution_count": 35
        }
      ]
    },
    {
      "cell_type": "code",
      "metadata": {
        "id": "msT54ac3S8Wr",
        "colab": {
          "base_uri": "https://localhost:8080/"
        },
        "outputId": "47928c5d-faec-4ed1-a136-149ccfe33f53"
      },
      "source": [
        "input_data.shape"
      ],
      "execution_count": null,
      "outputs": [
        {
          "output_type": "execute_result",
          "data": {
            "text/plain": [
              "(931, 1)"
            ]
          },
          "metadata": {},
          "execution_count": 36
        }
      ]
    },
    {
      "cell_type": "code",
      "metadata": {
        "id": "8o3tYaPaS_pI"
      },
      "source": [
        "x_test = []\n",
        "y_test =[]\n",
        "\n",
        "for i in range(100, input_data.shape[0]):\n",
        "    x_test.append(input_data[i-100: i])\n",
        "    y_test.append(input_data[i, 0])"
      ],
      "execution_count": null,
      "outputs": []
    },
    {
      "cell_type": "code",
      "metadata": {
        "id": "OeS7yYZvTpjf",
        "colab": {
          "base_uri": "https://localhost:8080/"
        },
        "outputId": "9c27a5c4-5a21-4cd3-dbbb-9f5a39b1b455"
      },
      "source": [
        "x_test, y_test = np.array(x_test), np.array(y_test)\n",
        "print(x_test.shape)\n",
        "print(y_test.shape)"
      ],
      "execution_count": null,
      "outputs": [
        {
          "output_type": "stream",
          "name": "stdout",
          "text": [
            "(831, 100, 1)\n",
            "(831,)\n"
          ]
        }
      ]
    },
    {
      "cell_type": "markdown",
      "metadata": {
        "id": "AlCVJz7RUCgx"
      },
      "source": [
        "## #Making Predictions"
      ]
    },
    {
      "cell_type": "code",
      "metadata": {
        "id": "M6KnSv0kUBUk"
      },
      "source": [
        "y_predicted = model.predict(x_test)"
      ],
      "execution_count": null,
      "outputs": []
    },
    {
      "cell_type": "code",
      "metadata": {
        "id": "bxehj7CaURLo",
        "colab": {
          "base_uri": "https://localhost:8080/"
        },
        "outputId": "4be310eb-4987-44d6-d38a-164e310f61ad"
      },
      "source": [
        "y_predicted.shape"
      ],
      "execution_count": null,
      "outputs": [
        {
          "output_type": "execute_result",
          "data": {
            "text/plain": [
              "(831, 1)"
            ]
          },
          "metadata": {},
          "execution_count": 40
        }
      ]
    },
    {
      "cell_type": "code",
      "metadata": {
        "id": "s0zbsVniUU63"
      },
      "source": [
        "y_test"
      ],
      "execution_count": null,
      "outputs": []
    },
    {
      "cell_type": "code",
      "metadata": {
        "id": "odgjPKyjUZGK"
      },
      "source": [
        "y_predicted"
      ],
      "execution_count": null,
      "outputs": []
    },
    {
      "cell_type": "code",
      "metadata": {
        "id": "KITfc2g-Ucf1",
        "colab": {
          "base_uri": "https://localhost:8080/"
        },
        "outputId": "35d60c1c-9339-49a3-b660-09ea1bcbdc5d"
      },
      "source": [
        "scaler.scale_"
      ],
      "execution_count": null,
      "outputs": [
        {
          "output_type": "execute_result",
          "data": {
            "text/plain": [
              "array([0.00988704])"
            ]
          },
          "metadata": {},
          "execution_count": 43
        }
      ]
    },
    {
      "cell_type": "code",
      "metadata": {
        "id": "0y8kYveYUk6-"
      },
      "source": [
        "scale_factor = 1/0.2099517\n",
        "y_predicted = y_predicted * scale_factor\n",
        "y_test = y_test * scale_factor"
      ],
      "execution_count": null,
      "outputs": []
    },
    {
      "cell_type": "code",
      "metadata": {
        "id": "5dT_B2oUUjE0",
        "colab": {
          "base_uri": "https://localhost:8080/",
          "height": 392
        },
        "outputId": "e6c033ff-1ecb-4095-e849-ee10ca7e0dca"
      },
      "source": [
        "plt.figure(figsize=(12,6))\n",
        "plt.plot(y_test, 'b', label = 'Original Price')\n",
        "plt.plot(y_predicted, 'r', label ='Predicted Price')\n",
        "plt.xlabel('Time')\n",
        "plt.ylabel('Price')\n",
        "plt.legend()\n",
        "plt.show()"
      ],
      "execution_count": null,
      "outputs": [
        {
          "output_type": "display_data",
          "data": {
            "image/png": "[encoded data removed]",
            "text/plain": [
              "<Figure size 864x432 with 1 Axes>"
            ]
          },
          "metadata": {
            "needs_background": "light"
          }
        }
      ]
    }
  ]
}